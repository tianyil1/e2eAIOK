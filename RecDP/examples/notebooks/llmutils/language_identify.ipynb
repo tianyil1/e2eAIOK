{
  "cells": [
    {
      "cell_type": "markdown",
      "source": [
        "# Install pyrecdp from github"
      ],
      "metadata": {
        "id": "80TXnJRByjdX"
      },
      "id": "80TXnJRByjdX"
    },
    {
      "cell_type": "code",
      "execution_count": null,
      "id": "736fb211-dbe6-4ca9-a1b1-db2cff2d287a",
      "metadata": {
        "id": "736fb211-dbe6-4ca9-a1b1-db2cff2d287a"
      },
      "outputs": [],
      "source": [
        "!pip install 'git+https://github.com/intel/e2eAIOK.git#egg=pyrecdp&subdirectory=RecDP'"
      ]
    },
    {
      "cell_type": "markdown",
      "source": [
        "# Install jdk for pyspark running"
      ],
      "metadata": {
        "id": "x5xIuDOOyoZ3"
      },
      "id": "x5xIuDOOyoZ3"
    },
    {
      "cell_type": "code",
      "source": [
        "!DEBIAN_FRONTEND=noninteractive apt-get install -y openjdk-8-jre"
      ],
      "metadata": {
        "id": "I0TogFroyq_O"
      },
      "id": "I0TogFroyq_O",
      "execution_count": null,
      "outputs": []
    },
    {
      "cell_type": "markdown",
      "source": [
        "# Prepare test data"
      ],
      "metadata": {
        "id": "QOJe5FCIyt--"
      },
      "id": "QOJe5FCIyt--"
    },
    {
      "cell_type": "code",
      "source": [
        "%mkdir -p /content/test_data\n",
        "%cd /content/test_data\n",
        "!wget https://raw.githubusercontent.com/intel/e2eAIOK/main/RecDP/tests/data/llm_data/tiny_c4_sample.jsonl"
      ],
      "metadata": {
        "id": "pwKIBV2XyxJt"
      },
      "id": "pwKIBV2XyxJt",
      "execution_count": null,
      "outputs": []
    },
    {
      "cell_type": "markdown",
      "source": [
        "# Import quality classifier function"
      ],
      "metadata": {
        "id": "x5iHKSefzI2A"
      },
      "id": "x5iHKSefzI2A"
    },
    {
      "cell_type": "code",
      "source": [
        "from pyrecdp.primitives.llmutils import language_identify, language_identify_spark\n",
        "from pyrecdp.core import SparkDataProcessor\n",
        "from huggingface_hub import hf_hub_download"
      ],
      "metadata": {
        "id": "Tc5qXej_zNnk"
      },
      "id": "Tc5qXej_zNnk",
      "execution_count": null,
      "outputs": []
    },
    {
      "cell_type": "markdown",
      "source": [
        "# Specify variables"
      ],
      "metadata": {
        "id": "mTZxVnRYzwdt"
      },
      "id": "mTZxVnRYzwdt"
    },
    {
      "cell_type": "code",
      "source": [
        "fasttext_model_dir = hf_hub_download(repo_id=\"facebook/fasttext-language-identification\", filename=\"model.bin\")\n",
        "data_dir = \"/content/test_data/tiny_c4_sample.jsonl\"\n",
        "language_identify_output_dir = '/content/test_data/output/lid'"
      ],
      "metadata": {
        "id": "8NPf3CjezzHy"
      },
      "id": "8NPf3CjezzHy",
      "execution_count": 3,
      "outputs": []
    },
    {
      "cell_type": "markdown",
      "source": [
        "# Language identify"
      ],
      "metadata": {
        "id": "yJ3Hk75oIJ8I"
      },
      "id": "yJ3Hk75oIJ8I"
    },
    {
      "cell_type": "code",
      "source": [
        "language_identify(data_dir, \"jsonl\", fasttext_model_dir, language_identify_output_dir)"
      ],
      "metadata": {
        "id": "19dfMJgoUBiT",
        "outputId": "e4efc195-b8f5-4a9d-82ad-9e46086019c6",
        "colab": {
          "base_uri": "https://localhost:8080/",
          "height": 361,
          "referenced_widgets": [
            "88fe80bfc0954dd5a095d6122e23daa1",
            "e24511dce1704567b22008291fbd18e2",
            "5f00c8dfe80649e093e6872fb9ceca55",
            "0eda523955a548e4bc3aec7bc95d4ecd",
            "f9f063a200964a9d859406a6967f88d6",
            "4454520b079842198f332ecce9b5cf40",
            "b8e2f9b64e4d48a79d517fa86fcaa953",
            "5b87d6caf1654a61994767948e36e503",
            "8e7f242735234121936135cf6e2bc2de",
            "643fbf954b45417f9b9ec61072ad9f2b",
            "4aba4c72ab7246c2b25982301003a2c9",
            "2102c336d988432293a1e4acee6470ba",
            "18f26f0df5f049eabcfb5d8b87768bfe",
            "3840818f03394246ade80b0b7aea1fc7",
            "e2956e86c8ed427bb62df6d69eb0ca71",
            "aef64218de0e4545b19779cfbf2645ed",
            "e172b50bcc7742cdbc4cadd77d69c0dd",
            "1df08974eb3348c39af0c7b652827f19",
            "3380783e7e96436d92c1161657d29c4e",
            "7c8dd42e3649456d9e97a45802636f5f",
            "86f9662bb63e49e3889d8e44599c5cdd",
            "9b717666fafe44bd836144775d266734"
          ]
        }
      },
      "id": "19dfMJgoUBiT",
      "execution_count": 3,
      "outputs": [
        {
          "output_type": "stream",
          "name": "stderr",
          "text": [
            "The cache for model files in Transformers v4.22.0 has been updated. Migrating your old cache. This is a one-time only operation. You can interrupt this and resume the migration later on by calling `transformers.utils.move_cache()`.\n"
          ]
        },
        {
          "output_type": "display_data",
          "data": {
            "text/plain": [
              "0it [00:00, ?it/s]"
            ],
            "application/vnd.jupyter.widget-view+json": {
              "version_major": 2,
              "version_minor": 0,
              "model_id": "88fe80bfc0954dd5a095d6122e23daa1"
            }
          },
          "metadata": {}
        },
        {
          "output_type": "stream",
          "name": "stdout",
          "text": [
            "init ray with total mem of 8167961395\n"
          ]
        },
        {
          "output_type": "stream",
          "name": "stderr",
          "text": [
            "2023-10-07 12:02:23,890\tWARNING services.py:1889 -- WARNING: The object store is using /tmp instead of /dev/shm because /dev/shm has only 6133116928 bytes available. This will harm performance! You may be able to free up space by deleting files in /dev/shm. If you are inside a Docker container, you can increase /dev/shm size by passing '--shm-size=8.37gb' to 'docker run' (or add it to the run_options list in a Ray cluster config). Make sure to set this to more than 30% of available RAM.\n",
            "2023-10-07 12:02:25,255\tINFO worker.py:1642 -- Started a local Ray instance.\n",
            "2023-10-07 12:02:27,651\tINFO read_api.py:406 -- To satisfy the requested parallelism of 2, each read task output is split into 2 smaller blocks.\n",
            "ResumableTextPipeline, current on tiny_c4_sample.jsonl:   0%|          | 0/1 [00:00<?, ?it/s]2023-10-07 12:02:27,720\tINFO streaming_executor.py:93 -- Executing DAG InputDataBuffer[Input] -> TaskPoolMapOperator[ReadText->SplitBlocks(2)] -> TaskPoolMapOperator[Map(<lambda>)->Map(<lambda>)->Write]\n",
            "2023-10-07 12:02:27,729\tINFO streaming_executor.py:94 -- Execution config: ExecutionOptions(resource_limits=ExecutionResources(cpu=None, gpu=None, object_store_memory=None), locality_with_output=False, preserve_order=False, actor_locality_enabled=True, verbose_progress=False)\n",
            "2023-10-07 12:02:27,736\tINFO streaming_executor.py:96 -- Tip: For detailed progress reporting, run `ray.data.DataContext.get_current().execution_options.verbose_progress = True`\n"
          ]
        },
        {
          "output_type": "stream",
          "name": "stdout",
          "text": [
            "/root/.cache/huggingface/hub/models--facebook--fasttext-language-identification/snapshots/3af127d4124fc58b75666f3594bb5143b9757e78/model.bin\n"
          ]
        },
        {
          "output_type": "display_data",
          "data": {
            "text/plain": [
              "Running 0:   0%|          | 0/4 [00:00<?, ?it/s]"
            ],
            "application/vnd.jupyter.widget-view+json": {
              "version_major": 2,
              "version_minor": 0,
              "model_id": "2102c336d988432293a1e4acee6470ba"
            }
          },
          "metadata": {}
        },
        {
          "output_type": "stream",
          "name": "stderr",
          "text": [
            "\u001b[2m\u001b[36m(Map(<lambda>)->Map(<lambda>)->Write pid=75852)\u001b[0m 2023-10-07 12:02:37.541054: W tensorflow/compiler/tf2tensorrt/utils/py_utils.cc:38] TF-TRT Warning: Could not find TensorRT\n",
            "\u001b[2m\u001b[36m(Map(<lambda>)->Map(<lambda>)->Write pid=75852)\u001b[0m Warning : `load_model` does not return WordVectorModel or SupervisedModel any more, but a `FastText` object which is very similar.\n",
            "\u001b[2m\u001b[36m(Map(<lambda>)->Map(<lambda>)->Write pid=75852)\u001b[0m Warning : `load_model` does not return WordVectorModel or SupervisedModel any more, but a `FastText` object which is very similar.\n",
            "2023-10-07 12:02:56,497\tWARNING plan.py:567 -- Warning: The Ray cluster currently does not have any available CPUs. The Dataset job will hang unless more CPUs are freed up. A common reason is that cluster resources are used by Actors or Tune trials; see the following link for more details: https://docs.ray.io/en/master/data/dataset-internals.html#datasets-and-tune\n",
            "ResumableTextPipeline, current on tiny_c4_sample.jsonl: 100%|██████████| 1/1 [00:28<00:00, 28.82s/it]"
          ]
        },
        {
          "output_type": "stream",
          "name": "stdout",
          "text": [
            "Completed!\n",
            "ResumableTextPipeline will not return dataset, please check /content/test_data/output/lid for verification.\n"
          ]
        },
        {
          "output_type": "stream",
          "name": "stderr",
          "text": [
            "\n"
          ]
        }
      ]
    },
    {
      "cell_type": "markdown",
      "source": [
        "# Language identify for spark dataframe"
      ],
      "metadata": {
        "id": "KmZSUQAlQEcP"
      },
      "id": "KmZSUQAlQEcP"
    },
    {
      "cell_type": "code",
      "source": [
        "data_file = \"/content/test_data/tiny_c4_sample.jsonl\"\n",
        "save_path = \"/content/test_data/output/lid_spark\"\n",
        "rdp = SparkDataProcessor()\n",
        "spark=rdp.spark\n",
        "spark_df = spark.read.json(data_file)\n",
        "print(\"input is \")\n",
        "spark_df.show()\n",
        "lid_df = language_identify_spark(spark_df, fasttext_model_dir)\n",
        "print(\"output is\")\n",
        "lid_df.show()"
      ],
      "metadata": {
        "id": "xM8XygxBXKfh",
        "outputId": "620bc2c5-1eb9-49a3-8292-8c072da8ad09",
        "colab": {
          "base_uri": "https://localhost:8080/"
        }
      },
      "id": "xM8XygxBXKfh",
      "execution_count": 4,
      "outputs": [
        {
          "output_type": "stream",
          "name": "stdout",
          "text": [
            "Will assign 1 cores and 10386 M memory for spark\n",
            "per core memory size is 10.143 GB and shuffle_disk maximum capacity is 8589934592.000 GB\n",
            "input is \n",
            "+--------------------+--------------------+\n",
            "|                meta|                text|\n",
            "+--------------------+--------------------+\n",
            "|{\"timestamp\":\"201...|lorazepam nombre ...|\n",
            "|{\"timestamp\":\"201...|It is possible to...|\n",
            "|{\"timestamp\":\"201...|Canon PIXMA TS952...|\n",
            "|{\"timestamp\":\"201...|For those who pla...|\n",
            "|{\"timestamp\":\"201...|After tipping 25 ...|\n",
            "|{\"timestamp\":\"201...|When cute redhead...|\n",
            "|{\"timestamp\":\"201...|Description: Deco...|\n",
            "|{\"timestamp\":\"201...|Download BustedBo...|\n",
            "|{\"timestamp\":\"201...|Judah Ben-Hur liv...|\n",
            "|{\"timestamp\":\"201...|Beneath you can s...|\n",
            "|{\"timestamp\":\"201...|It’s Day 11, and ...|\n",
            "|{\"timestamp\":\"201...|KATALEIYA . LaraE...|\n",
            "|{\"timestamp\":\"201...|Adhesive furnitur...|\n",
            "|{\"timestamp\":\"201...|HD Wetting accept...|\n",
            "|{\"timestamp\":\"201...|Iryna Sysoenko, P...|\n",
            "|{\"timestamp\":\"201...|Hi. My name is Ha...|\n",
            "|{\"timestamp\":\"201...|This client got s...|\n",
            "|{\"timestamp\":\"201...|Principles and go...|\n",
            "|{\"timestamp\":\"201...|From I-275 North,...|\n",
            "|{\"timestamp\":\"201...|After tipping 25 ...|\n",
            "+--------------------+--------------------+\n",
            "only showing top 20 rows\n",
            "\n",
            "/root/.cache/huggingface/hub/models--facebook--fasttext-language-identification/snapshots/3af127d4124fc58b75666f3594bb5143b9757e78/model.bin\n",
            "output is\n",
            "+--------------------+--------------------+--------+\n",
            "|                meta|                text|language|\n",
            "+--------------------+--------------------+--------+\n",
            "|{\"timestamp\":\"201...|lorazepam nombre ...|eng_Latn|\n",
            "|{\"timestamp\":\"201...|It is possible to...|eng_Latn|\n",
            "|{\"timestamp\":\"201...|Canon PIXMA TS952...|eng_Latn|\n",
            "|{\"timestamp\":\"201...|For those who pla...|eng_Latn|\n",
            "|{\"timestamp\":\"201...|After tipping 25 ...|eng_Latn|\n",
            "|{\"timestamp\":\"201...|When cute redhead...|eng_Latn|\n",
            "|{\"timestamp\":\"201...|Description: Deco...|eng_Latn|\n",
            "|{\"timestamp\":\"201...|Download BustedBo...|eng_Latn|\n",
            "|{\"timestamp\":\"201...|Judah Ben-Hur liv...|eng_Latn|\n",
            "|{\"timestamp\":\"201...|Beneath you can s...|eng_Latn|\n",
            "|{\"timestamp\":\"201...|It’s Day 11, and ...|eng_Latn|\n",
            "|{\"timestamp\":\"201...|KATALEIYA . LaraE...|yue_Hant|\n",
            "|{\"timestamp\":\"201...|Adhesive furnitur...|eng_Latn|\n",
            "|{\"timestamp\":\"201...|HD Wetting accept...|eng_Latn|\n",
            "|{\"timestamp\":\"201...|Iryna Sysoenko, P...|eng_Latn|\n",
            "|{\"timestamp\":\"201...|Hi. My name is Ha...|eng_Latn|\n",
            "|{\"timestamp\":\"201...|This client got s...|eng_Latn|\n",
            "|{\"timestamp\":\"201...|Principles and go...|eng_Latn|\n",
            "|{\"timestamp\":\"201...|From I-275 North,...|eng_Latn|\n",
            "|{\"timestamp\":\"201...|After tipping 25 ...|eng_Latn|\n",
            "+--------------------+--------------------+--------+\n",
            "only showing top 20 rows\n",
            "\n"
          ]
        }
      ]
    },
    {
      "cell_type": "code",
      "source": [],
      "metadata": {
        "id": "s-3ldhbVS2it"
      },
      "id": "s-3ldhbVS2it",
      "execution_count": null,
      "outputs": []
    }
  ],
  "metadata": {
    "kernelspec": {
      "display_name": "Python 3 (ipykernel)",
      "language": "python",
      "name": "python3"
    },
    "language_info": {
      "codemirror_mode": {
        "name": "ipython",
        "version": 3
      },
      "file_extension": ".py",
      "mimetype": "text/x-python",
      "name": "python",
      "nbconvert_exporter": "python",
      "pygments_lexer": "ipython3",
      "version": "3.10.12"
    },
    "colab": {
      "provenance": [],
      "toc_visible": true
    },
    "widgets": {
      "application/vnd.jupyter.widget-state+json": {
        "88fe80bfc0954dd5a095d6122e23daa1": {
          "model_module": "@jupyter-widgets/controls",
          "model_name": "HBoxModel",
          "model_module_version": "1.5.0",
          "state": {
            "_dom_classes": [],
            "_model_module": "@jupyter-widgets/controls",
            "_model_module_version": "1.5.0",
            "_model_name": "HBoxModel",
            "_view_count": null,
            "_view_module": "@jupyter-widgets/controls",
            "_view_module_version": "1.5.0",
            "_view_name": "HBoxView",
            "box_style": "",
            "children": [
              "IPY_MODEL_e24511dce1704567b22008291fbd18e2",
              "IPY_MODEL_5f00c8dfe80649e093e6872fb9ceca55",
              "IPY_MODEL_0eda523955a548e4bc3aec7bc95d4ecd"
            ],
            "layout": "IPY_MODEL_f9f063a200964a9d859406a6967f88d6"
          }
        },
        "e24511dce1704567b22008291fbd18e2": {
          "model_module": "@jupyter-widgets/controls",
          "model_name": "HTMLModel",
          "model_module_version": "1.5.0",
          "state": {
            "_dom_classes": [],
            "_model_module": "@jupyter-widgets/controls",
            "_model_module_version": "1.5.0",
            "_model_name": "HTMLModel",
            "_view_count": null,
            "_view_module": "@jupyter-widgets/controls",
            "_view_module_version": "1.5.0",
            "_view_name": "HTMLView",
            "description": "",
            "description_tooltip": null,
            "layout": "IPY_MODEL_4454520b079842198f332ecce9b5cf40",
            "placeholder": "​",
            "style": "IPY_MODEL_b8e2f9b64e4d48a79d517fa86fcaa953",
            "value": ""
          }
        },
        "5f00c8dfe80649e093e6872fb9ceca55": {
          "model_module": "@jupyter-widgets/controls",
          "model_name": "FloatProgressModel",
          "model_module_version": "1.5.0",
          "state": {
            "_dom_classes": [],
            "_model_module": "@jupyter-widgets/controls",
            "_model_module_version": "1.5.0",
            "_model_name": "FloatProgressModel",
            "_view_count": null,
            "_view_module": "@jupyter-widgets/controls",
            "_view_module_version": "1.5.0",
            "_view_name": "ProgressView",
            "bar_style": "success",
            "description": "",
            "description_tooltip": null,
            "layout": "IPY_MODEL_5b87d6caf1654a61994767948e36e503",
            "max": 1,
            "min": 0,
            "orientation": "horizontal",
            "style": "IPY_MODEL_8e7f242735234121936135cf6e2bc2de",
            "value": 0
          }
        },
        "0eda523955a548e4bc3aec7bc95d4ecd": {
          "model_module": "@jupyter-widgets/controls",
          "model_name": "HTMLModel",
          "model_module_version": "1.5.0",
          "state": {
            "_dom_classes": [],
            "_model_module": "@jupyter-widgets/controls",
            "_model_module_version": "1.5.0",
            "_model_name": "HTMLModel",
            "_view_count": null,
            "_view_module": "@jupyter-widgets/controls",
            "_view_module_version": "1.5.0",
            "_view_name": "HTMLView",
            "description": "",
            "description_tooltip": null,
            "layout": "IPY_MODEL_643fbf954b45417f9b9ec61072ad9f2b",
            "placeholder": "​",
            "style": "IPY_MODEL_4aba4c72ab7246c2b25982301003a2c9",
            "value": " 0/0 [00:00&lt;?, ?it/s]"
          }
        },
        "f9f063a200964a9d859406a6967f88d6": {
          "model_module": "@jupyter-widgets/base",
          "model_name": "LayoutModel",
          "model_module_version": "1.2.0",
          "state": {
            "_model_module": "@jupyter-widgets/base",
            "_model_module_version": "1.2.0",
            "_model_name": "LayoutModel",
            "_view_count": null,
            "_view_module": "@jupyter-widgets/base",
            "_view_module_version": "1.2.0",
            "_view_name": "LayoutView",
            "align_content": null,
            "align_items": null,
            "align_self": null,
            "border": null,
            "bottom": null,
            "display": null,
            "flex": null,
            "flex_flow": null,
            "grid_area": null,
            "grid_auto_columns": null,
            "grid_auto_flow": null,
            "grid_auto_rows": null,
            "grid_column": null,
            "grid_gap": null,
            "grid_row": null,
            "grid_template_areas": null,
            "grid_template_columns": null,
            "grid_template_rows": null,
            "height": null,
            "justify_content": null,
            "justify_items": null,
            "left": null,
            "margin": null,
            "max_height": null,
            "max_width": null,
            "min_height": null,
            "min_width": null,
            "object_fit": null,
            "object_position": null,
            "order": null,
            "overflow": null,
            "overflow_x": null,
            "overflow_y": null,
            "padding": null,
            "right": null,
            "top": null,
            "visibility": null,
            "width": null
          }
        },
        "4454520b079842198f332ecce9b5cf40": {
          "model_module": "@jupyter-widgets/base",
          "model_name": "LayoutModel",
          "model_module_version": "1.2.0",
          "state": {
            "_model_module": "@jupyter-widgets/base",
            "_model_module_version": "1.2.0",
            "_model_name": "LayoutModel",
            "_view_count": null,
            "_view_module": "@jupyter-widgets/base",
            "_view_module_version": "1.2.0",
            "_view_name": "LayoutView",
            "align_content": null,
            "align_items": null,
            "align_self": null,
            "border": null,
            "bottom": null,
            "display": null,
            "flex": null,
            "flex_flow": null,
            "grid_area": null,
            "grid_auto_columns": null,
            "grid_auto_flow": null,
            "grid_auto_rows": null,
            "grid_column": null,
            "grid_gap": null,
            "grid_row": null,
            "grid_template_areas": null,
            "grid_template_columns": null,
            "grid_template_rows": null,
            "height": null,
            "justify_content": null,
            "justify_items": null,
            "left": null,
            "margin": null,
            "max_height": null,
            "max_width": null,
            "min_height": null,
            "min_width": null,
            "object_fit": null,
            "object_position": null,
            "order": null,
            "overflow": null,
            "overflow_x": null,
            "overflow_y": null,
            "padding": null,
            "right": null,
            "top": null,
            "visibility": null,
            "width": null
          }
        },
        "b8e2f9b64e4d48a79d517fa86fcaa953": {
          "model_module": "@jupyter-widgets/controls",
          "model_name": "DescriptionStyleModel",
          "model_module_version": "1.5.0",
          "state": {
            "_model_module": "@jupyter-widgets/controls",
            "_model_module_version": "1.5.0",
            "_model_name": "DescriptionStyleModel",
            "_view_count": null,
            "_view_module": "@jupyter-widgets/base",
            "_view_module_version": "1.2.0",
            "_view_name": "StyleView",
            "description_width": ""
          }
        },
        "5b87d6caf1654a61994767948e36e503": {
          "model_module": "@jupyter-widgets/base",
          "model_name": "LayoutModel",
          "model_module_version": "1.2.0",
          "state": {
            "_model_module": "@jupyter-widgets/base",
            "_model_module_version": "1.2.0",
            "_model_name": "LayoutModel",
            "_view_count": null,
            "_view_module": "@jupyter-widgets/base",
            "_view_module_version": "1.2.0",
            "_view_name": "LayoutView",
            "align_content": null,
            "align_items": null,
            "align_self": null,
            "border": null,
            "bottom": null,
            "display": null,
            "flex": null,
            "flex_flow": null,
            "grid_area": null,
            "grid_auto_columns": null,
            "grid_auto_flow": null,
            "grid_auto_rows": null,
            "grid_column": null,
            "grid_gap": null,
            "grid_row": null,
            "grid_template_areas": null,
            "grid_template_columns": null,
            "grid_template_rows": null,
            "height": null,
            "justify_content": null,
            "justify_items": null,
            "left": null,
            "margin": null,
            "max_height": null,
            "max_width": null,
            "min_height": null,
            "min_width": null,
            "object_fit": null,
            "object_position": null,
            "order": null,
            "overflow": null,
            "overflow_x": null,
            "overflow_y": null,
            "padding": null,
            "right": null,
            "top": null,
            "visibility": null,
            "width": "20px"
          }
        },
        "8e7f242735234121936135cf6e2bc2de": {
          "model_module": "@jupyter-widgets/controls",
          "model_name": "ProgressStyleModel",
          "model_module_version": "1.5.0",
          "state": {
            "_model_module": "@jupyter-widgets/controls",
            "_model_module_version": "1.5.0",
            "_model_name": "ProgressStyleModel",
            "_view_count": null,
            "_view_module": "@jupyter-widgets/base",
            "_view_module_version": "1.2.0",
            "_view_name": "StyleView",
            "bar_color": null,
            "description_width": ""
          }
        },
        "643fbf954b45417f9b9ec61072ad9f2b": {
          "model_module": "@jupyter-widgets/base",
          "model_name": "LayoutModel",
          "model_module_version": "1.2.0",
          "state": {
            "_model_module": "@jupyter-widgets/base",
            "_model_module_version": "1.2.0",
            "_model_name": "LayoutModel",
            "_view_count": null,
            "_view_module": "@jupyter-widgets/base",
            "_view_module_version": "1.2.0",
            "_view_name": "LayoutView",
            "align_content": null,
            "align_items": null,
            "align_self": null,
            "border": null,
            "bottom": null,
            "display": null,
            "flex": null,
            "flex_flow": null,
            "grid_area": null,
            "grid_auto_columns": null,
            "grid_auto_flow": null,
            "grid_auto_rows": null,
            "grid_column": null,
            "grid_gap": null,
            "grid_row": null,
            "grid_template_areas": null,
            "grid_template_columns": null,
            "grid_template_rows": null,
            "height": null,
            "justify_content": null,
            "justify_items": null,
            "left": null,
            "margin": null,
            "max_height": null,
            "max_width": null,
            "min_height": null,
            "min_width": null,
            "object_fit": null,
            "object_position": null,
            "order": null,
            "overflow": null,
            "overflow_x": null,
            "overflow_y": null,
            "padding": null,
            "right": null,
            "top": null,
            "visibility": null,
            "width": null
          }
        },
        "4aba4c72ab7246c2b25982301003a2c9": {
          "model_module": "@jupyter-widgets/controls",
          "model_name": "DescriptionStyleModel",
          "model_module_version": "1.5.0",
          "state": {
            "_model_module": "@jupyter-widgets/controls",
            "_model_module_version": "1.5.0",
            "_model_name": "DescriptionStyleModel",
            "_view_count": null,
            "_view_module": "@jupyter-widgets/base",
            "_view_module_version": "1.2.0",
            "_view_name": "StyleView",
            "description_width": ""
          }
        },
        "2102c336d988432293a1e4acee6470ba": {
          "model_module": "@jupyter-widgets/controls",
          "model_name": "HBoxModel",
          "model_module_version": "1.5.0",
          "state": {
            "_dom_classes": [],
            "_model_module": "@jupyter-widgets/controls",
            "_model_module_version": "1.5.0",
            "_model_name": "HBoxModel",
            "_view_count": null,
            "_view_module": "@jupyter-widgets/controls",
            "_view_module_version": "1.5.0",
            "_view_name": "HBoxView",
            "box_style": "",
            "children": [
              "IPY_MODEL_18f26f0df5f049eabcfb5d8b87768bfe",
              "IPY_MODEL_3840818f03394246ade80b0b7aea1fc7",
              "IPY_MODEL_e2956e86c8ed427bb62df6d69eb0ca71"
            ],
            "layout": "IPY_MODEL_aef64218de0e4545b19779cfbf2645ed"
          }
        },
        "18f26f0df5f049eabcfb5d8b87768bfe": {
          "model_module": "@jupyter-widgets/controls",
          "model_name": "HTMLModel",
          "model_module_version": "1.5.0",
          "state": {
            "_dom_classes": [],
            "_model_module": "@jupyter-widgets/controls",
            "_model_module_version": "1.5.0",
            "_model_name": "HTMLModel",
            "_view_count": null,
            "_view_module": "@jupyter-widgets/controls",
            "_view_module_version": "1.5.0",
            "_view_name": "HTMLView",
            "description": "",
            "description_tooltip": null,
            "layout": "IPY_MODEL_e172b50bcc7742cdbc4cadd77d69c0dd",
            "placeholder": "​",
            "style": "IPY_MODEL_1df08974eb3348c39af0c7b652827f19",
            "value": "Running: 0.0/1.0 CPU, 0.0/0.0 GPU, 0.0 MiB/1.9 GiB object_store_memory: 100%"
          }
        },
        "3840818f03394246ade80b0b7aea1fc7": {
          "model_module": "@jupyter-widgets/controls",
          "model_name": "FloatProgressModel",
          "model_module_version": "1.5.0",
          "state": {
            "_dom_classes": [],
            "_model_module": "@jupyter-widgets/controls",
            "_model_module_version": "1.5.0",
            "_model_name": "FloatProgressModel",
            "_view_count": null,
            "_view_module": "@jupyter-widgets/controls",
            "_view_module_version": "1.5.0",
            "_view_name": "ProgressView",
            "bar_style": "",
            "description": "",
            "description_tooltip": null,
            "layout": "IPY_MODEL_3380783e7e96436d92c1161657d29c4e",
            "max": 4,
            "min": 0,
            "orientation": "horizontal",
            "style": "IPY_MODEL_7c8dd42e3649456d9e97a45802636f5f",
            "value": 2
          }
        },
        "e2956e86c8ed427bb62df6d69eb0ca71": {
          "model_module": "@jupyter-widgets/controls",
          "model_name": "HTMLModel",
          "model_module_version": "1.5.0",
          "state": {
            "_dom_classes": [],
            "_model_module": "@jupyter-widgets/controls",
            "_model_module_version": "1.5.0",
            "_model_name": "HTMLModel",
            "_view_count": null,
            "_view_module": "@jupyter-widgets/controls",
            "_view_module_version": "1.5.0",
            "_view_name": "HTMLView",
            "description": "",
            "description_tooltip": null,
            "layout": "IPY_MODEL_86f9662bb63e49e3889d8e44599c5cdd",
            "placeholder": "​",
            "style": "IPY_MODEL_9b717666fafe44bd836144775d266734",
            "value": " 2/2 [00:28&lt;00:00, 12.38s/it]"
          }
        },
        "aef64218de0e4545b19779cfbf2645ed": {
          "model_module": "@jupyter-widgets/base",
          "model_name": "LayoutModel",
          "model_module_version": "1.2.0",
          "state": {
            "_model_module": "@jupyter-widgets/base",
            "_model_module_version": "1.2.0",
            "_model_name": "LayoutModel",
            "_view_count": null,
            "_view_module": "@jupyter-widgets/base",
            "_view_module_version": "1.2.0",
            "_view_name": "LayoutView",
            "align_content": null,
            "align_items": null,
            "align_self": null,
            "border": null,
            "bottom": null,
            "display": null,
            "flex": null,
            "flex_flow": null,
            "grid_area": null,
            "grid_auto_columns": null,
            "grid_auto_flow": null,
            "grid_auto_rows": null,
            "grid_column": null,
            "grid_gap": null,
            "grid_row": null,
            "grid_template_areas": null,
            "grid_template_columns": null,
            "grid_template_rows": null,
            "height": null,
            "justify_content": null,
            "justify_items": null,
            "left": null,
            "margin": null,
            "max_height": null,
            "max_width": null,
            "min_height": null,
            "min_width": null,
            "object_fit": null,
            "object_position": null,
            "order": null,
            "overflow": null,
            "overflow_x": null,
            "overflow_y": null,
            "padding": null,
            "right": null,
            "top": null,
            "visibility": "hidden",
            "width": null
          }
        },
        "e172b50bcc7742cdbc4cadd77d69c0dd": {
          "model_module": "@jupyter-widgets/base",
          "model_name": "LayoutModel",
          "model_module_version": "1.2.0",
          "state": {
            "_model_module": "@jupyter-widgets/base",
            "_model_module_version": "1.2.0",
            "_model_name": "LayoutModel",
            "_view_count": null,
            "_view_module": "@jupyter-widgets/base",
            "_view_module_version": "1.2.0",
            "_view_name": "LayoutView",
            "align_content": null,
            "align_items": null,
            "align_self": null,
            "border": null,
            "bottom": null,
            "display": null,
            "flex": null,
            "flex_flow": null,
            "grid_area": null,
            "grid_auto_columns": null,
            "grid_auto_flow": null,
            "grid_auto_rows": null,
            "grid_column": null,
            "grid_gap": null,
            "grid_row": null,
            "grid_template_areas": null,
            "grid_template_columns": null,
            "grid_template_rows": null,
            "height": null,
            "justify_content": null,
            "justify_items": null,
            "left": null,
            "margin": null,
            "max_height": null,
            "max_width": null,
            "min_height": null,
            "min_width": null,
            "object_fit": null,
            "object_position": null,
            "order": null,
            "overflow": null,
            "overflow_x": null,
            "overflow_y": null,
            "padding": null,
            "right": null,
            "top": null,
            "visibility": null,
            "width": null
          }
        },
        "1df08974eb3348c39af0c7b652827f19": {
          "model_module": "@jupyter-widgets/controls",
          "model_name": "DescriptionStyleModel",
          "model_module_version": "1.5.0",
          "state": {
            "_model_module": "@jupyter-widgets/controls",
            "_model_module_version": "1.5.0",
            "_model_name": "DescriptionStyleModel",
            "_view_count": null,
            "_view_module": "@jupyter-widgets/base",
            "_view_module_version": "1.2.0",
            "_view_name": "StyleView",
            "description_width": ""
          }
        },
        "3380783e7e96436d92c1161657d29c4e": {
          "model_module": "@jupyter-widgets/base",
          "model_name": "LayoutModel",
          "model_module_version": "1.2.0",
          "state": {
            "_model_module": "@jupyter-widgets/base",
            "_model_module_version": "1.2.0",
            "_model_name": "LayoutModel",
            "_view_count": null,
            "_view_module": "@jupyter-widgets/base",
            "_view_module_version": "1.2.0",
            "_view_name": "LayoutView",
            "align_content": null,
            "align_items": null,
            "align_self": null,
            "border": null,
            "bottom": null,
            "display": null,
            "flex": null,
            "flex_flow": null,
            "grid_area": null,
            "grid_auto_columns": null,
            "grid_auto_flow": null,
            "grid_auto_rows": null,
            "grid_column": null,
            "grid_gap": null,
            "grid_row": null,
            "grid_template_areas": null,
            "grid_template_columns": null,
            "grid_template_rows": null,
            "height": null,
            "justify_content": null,
            "justify_items": null,
            "left": null,
            "margin": null,
            "max_height": null,
            "max_width": null,
            "min_height": null,
            "min_width": null,
            "object_fit": null,
            "object_position": null,
            "order": null,
            "overflow": null,
            "overflow_x": null,
            "overflow_y": null,
            "padding": null,
            "right": null,
            "top": null,
            "visibility": null,
            "width": null
          }
        },
        "7c8dd42e3649456d9e97a45802636f5f": {
          "model_module": "@jupyter-widgets/controls",
          "model_name": "ProgressStyleModel",
          "model_module_version": "1.5.0",
          "state": {
            "_model_module": "@jupyter-widgets/controls",
            "_model_module_version": "1.5.0",
            "_model_name": "ProgressStyleModel",
            "_view_count": null,
            "_view_module": "@jupyter-widgets/base",
            "_view_module_version": "1.2.0",
            "_view_name": "StyleView",
            "bar_color": null,
            "description_width": ""
          }
        },
        "86f9662bb63e49e3889d8e44599c5cdd": {
          "model_module": "@jupyter-widgets/base",
          "model_name": "LayoutModel",
          "model_module_version": "1.2.0",
          "state": {
            "_model_module": "@jupyter-widgets/base",
            "_model_module_version": "1.2.0",
            "_model_name": "LayoutModel",
            "_view_count": null,
            "_view_module": "@jupyter-widgets/base",
            "_view_module_version": "1.2.0",
            "_view_name": "LayoutView",
            "align_content": null,
            "align_items": null,
            "align_self": null,
            "border": null,
            "bottom": null,
            "display": null,
            "flex": null,
            "flex_flow": null,
            "grid_area": null,
            "grid_auto_columns": null,
            "grid_auto_flow": null,
            "grid_auto_rows": null,
            "grid_column": null,
            "grid_gap": null,
            "grid_row": null,
            "grid_template_areas": null,
            "grid_template_columns": null,
            "grid_template_rows": null,
            "height": null,
            "justify_content": null,
            "justify_items": null,
            "left": null,
            "margin": null,
            "max_height": null,
            "max_width": null,
            "min_height": null,
            "min_width": null,
            "object_fit": null,
            "object_position": null,
            "order": null,
            "overflow": null,
            "overflow_x": null,
            "overflow_y": null,
            "padding": null,
            "right": null,
            "top": null,
            "visibility": null,
            "width": null
          }
        },
        "9b717666fafe44bd836144775d266734": {
          "model_module": "@jupyter-widgets/controls",
          "model_name": "DescriptionStyleModel",
          "model_module_version": "1.5.0",
          "state": {
            "_model_module": "@jupyter-widgets/controls",
            "_model_module_version": "1.5.0",
            "_model_name": "DescriptionStyleModel",
            "_view_count": null,
            "_view_module": "@jupyter-widgets/base",
            "_view_module_version": "1.2.0",
            "_view_name": "StyleView",
            "description_width": ""
          }
        }
      }
    }
  },
  "nbformat": 4,
  "nbformat_minor": 5
}